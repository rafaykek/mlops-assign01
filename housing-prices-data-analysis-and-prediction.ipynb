{
 "cells": [
  {
   "cell_type": "markdown",
   "id": "0ad4f160",
   "metadata": {
    "papermill": {
     "duration": 0.005248,
     "end_time": "2024-08-30T10:36:08.599214",
     "exception": false,
     "start_time": "2024-08-30T10:36:08.593966",
     "status": "completed"
    },
    "tags": []
   },
   "source": [
    "### Housing Prices Analysis\n",
    "\n",
    "The housing market is a fascinating reflection of economic trends, societal shifts, and individual preferences. By analyzing housing prices, we can uncover insights into what drives property values and potentially predict future trends. This notebook dives into a dataset of housing prices to explore these dynamics. If you find this analysis useful, please consider upvoting it.\n"
   ]
  },
  {
   "cell_type": "code",
   "execution_count": 1,
   "id": "d31f88a2",
   "metadata": {
    "execution": {
     "iopub.execute_input": "2024-08-30T10:36:08.610959Z",
     "iopub.status.busy": "2024-08-30T10:36:08.610442Z",
     "iopub.status.idle": "2024-08-30T10:36:08.624787Z",
     "shell.execute_reply": "2024-08-30T10:36:08.623523Z"
    },
    "papermill": {
     "duration": 0.023118,
     "end_time": "2024-08-30T10:36:08.627460",
     "exception": false,
     "start_time": "2024-08-30T10:36:08.604342",
     "status": "completed"
    },
    "tags": []
   },
   "outputs": [],
   "source": [
    "# Suppress warnings\n",
    "import warnings\n",
    "warnings.filterwarnings('ignore')"
   ]
  },
  {
   "cell_type": "code",
   "execution_count": 2,
   "id": "a6bc6f64",
   "metadata": {
    "execution": {
     "iopub.execute_input": "2024-08-30T10:36:08.638618Z",
     "iopub.status.busy": "2024-08-30T10:36:08.638101Z",
     "iopub.status.idle": "2024-08-30T10:36:11.327549Z",
     "shell.execute_reply": "2024-08-30T10:36:11.325968Z"
    },
    "papermill": {
     "duration": 2.698959,
     "end_time": "2024-08-30T10:36:11.330943",
     "exception": false,
     "start_time": "2024-08-30T10:36:08.631984",
     "status": "completed"
    },
    "tags": []
   },
   "outputs": [],
   "source": [
    "# Import necessary libraries\n",
    "import pandas as pd\n",
    "import numpy as np\n",
    "import seaborn as sns\n",
    "import matplotlib.pyplot as plt\n",
    "from sklearn.model_selection import train_test_split\n",
    "from sklearn.linear_model import LinearRegression\n",
    "from sklearn.metrics import mean_squared_error, r2_score"
   ]
  },
  {
   "cell_type": "code",
   "execution_count": 3,
   "id": "bfa07022",
   "metadata": {
    "execution": {
     "iopub.execute_input": "2024-08-30T10:36:11.343183Z",
     "iopub.status.busy": "2024-08-30T10:36:11.342554Z",
     "iopub.status.idle": "2024-08-30T10:36:11.372538Z",
     "shell.execute_reply": "2024-08-30T10:36:11.371091Z"
    },
    "papermill": {
     "duration": 0.039655,
     "end_time": "2024-08-30T10:36:11.375778",
     "exception": false,
     "start_time": "2024-08-30T10:36:11.336123",
     "status": "completed"
    },
    "tags": []
   },
   "outputs": [],
   "source": [
    "# Load the dataset\n",
    "file_path = '/kaggle/input/housing-prices-dataset/Housing.csv'\n",
    "df = pd.read_csv(file_path)"
   ]
  },
  {
   "cell_type": "markdown",
   "id": "5c836c6b",
   "metadata": {
    "papermill": {
     "duration": 0.004267,
     "end_time": "2024-08-30T10:36:11.385014",
     "exception": false,
     "start_time": "2024-08-30T10:36:11.380747",
     "status": "completed"
    },
    "tags": []
   },
   "source": [
    "### Initial Data Exploration\n",
    "\n",
    "Let's take a first look at the dataset to understand its structure and contents."
   ]
  },
  {
   "cell_type": "code",
   "execution_count": 4,
   "id": "91d90adc",
   "metadata": {
    "execution": {
     "iopub.execute_input": "2024-08-30T10:36:11.395845Z",
     "iopub.status.busy": "2024-08-30T10:36:11.395438Z",
     "iopub.status.idle": "2024-08-30T10:36:11.424769Z",
     "shell.execute_reply": "2024-08-30T10:36:11.423384Z"
    },
    "papermill": {
     "duration": 0.037962,
     "end_time": "2024-08-30T10:36:11.427488",
     "exception": false,
     "start_time": "2024-08-30T10:36:11.389526",
     "status": "completed"
    },
    "tags": []
   },
   "outputs": [
    {
     "data": {
      "text/html": [
       "<div>\n",
       "<style scoped>\n",
       "    .dataframe tbody tr th:only-of-type {\n",
       "        vertical-align: middle;\n",
       "    }\n",
       "\n",
       "    .dataframe tbody tr th {\n",
       "        vertical-align: top;\n",
       "    }\n",
       "\n",
       "    .dataframe thead th {\n",
       "        text-align: right;\n",
       "    }\n",
       "</style>\n",
       "<table border=\"1\" class=\"dataframe\">\n",
       "  <thead>\n",
       "    <tr style=\"text-align: right;\">\n",
       "      <th></th>\n",
       "      <th>price</th>\n",
       "      <th>area</th>\n",
       "      <th>bedrooms</th>\n",
       "      <th>bathrooms</th>\n",
       "      <th>stories</th>\n",
       "      <th>mainroad</th>\n",
       "      <th>guestroom</th>\n",
       "      <th>basement</th>\n",
       "      <th>hotwaterheating</th>\n",
       "      <th>airconditioning</th>\n",
       "      <th>parking</th>\n",
       "      <th>prefarea</th>\n",
       "      <th>furnishingstatus</th>\n",
       "    </tr>\n",
       "  </thead>\n",
       "  <tbody>\n",
       "    <tr>\n",
       "      <th>0</th>\n",
       "      <td>13300000</td>\n",
       "      <td>7420</td>\n",
       "      <td>4</td>\n",
       "      <td>2</td>\n",
       "      <td>3</td>\n",
       "      <td>yes</td>\n",
       "      <td>no</td>\n",
       "      <td>no</td>\n",
       "      <td>no</td>\n",
       "      <td>yes</td>\n",
       "      <td>2</td>\n",
       "      <td>yes</td>\n",
       "      <td>furnished</td>\n",
       "    </tr>\n",
       "    <tr>\n",
       "      <th>1</th>\n",
       "      <td>12250000</td>\n",
       "      <td>8960</td>\n",
       "      <td>4</td>\n",
       "      <td>4</td>\n",
       "      <td>4</td>\n",
       "      <td>yes</td>\n",
       "      <td>no</td>\n",
       "      <td>no</td>\n",
       "      <td>no</td>\n",
       "      <td>yes</td>\n",
       "      <td>3</td>\n",
       "      <td>no</td>\n",
       "      <td>furnished</td>\n",
       "    </tr>\n",
       "    <tr>\n",
       "      <th>2</th>\n",
       "      <td>12250000</td>\n",
       "      <td>9960</td>\n",
       "      <td>3</td>\n",
       "      <td>2</td>\n",
       "      <td>2</td>\n",
       "      <td>yes</td>\n",
       "      <td>no</td>\n",
       "      <td>yes</td>\n",
       "      <td>no</td>\n",
       "      <td>no</td>\n",
       "      <td>2</td>\n",
       "      <td>yes</td>\n",
       "      <td>semi-furnished</td>\n",
       "    </tr>\n",
       "    <tr>\n",
       "      <th>3</th>\n",
       "      <td>12215000</td>\n",
       "      <td>7500</td>\n",
       "      <td>4</td>\n",
       "      <td>2</td>\n",
       "      <td>2</td>\n",
       "      <td>yes</td>\n",
       "      <td>no</td>\n",
       "      <td>yes</td>\n",
       "      <td>no</td>\n",
       "      <td>yes</td>\n",
       "      <td>3</td>\n",
       "      <td>yes</td>\n",
       "      <td>furnished</td>\n",
       "    </tr>\n",
       "    <tr>\n",
       "      <th>4</th>\n",
       "      <td>11410000</td>\n",
       "      <td>7420</td>\n",
       "      <td>4</td>\n",
       "      <td>1</td>\n",
       "      <td>2</td>\n",
       "      <td>yes</td>\n",
       "      <td>yes</td>\n",
       "      <td>yes</td>\n",
       "      <td>no</td>\n",
       "      <td>yes</td>\n",
       "      <td>2</td>\n",
       "      <td>no</td>\n",
       "      <td>furnished</td>\n",
       "    </tr>\n",
       "  </tbody>\n",
       "</table>\n",
       "</div>"
      ],
      "text/plain": [
       "      price  area  bedrooms  bathrooms  stories mainroad guestroom basement  \\\n",
       "0  13300000  7420         4          2        3      yes        no       no   \n",
       "1  12250000  8960         4          4        4      yes        no       no   \n",
       "2  12250000  9960         3          2        2      yes        no      yes   \n",
       "3  12215000  7500         4          2        2      yes        no      yes   \n",
       "4  11410000  7420         4          1        2      yes       yes      yes   \n",
       "\n",
       "  hotwaterheating airconditioning  parking prefarea furnishingstatus  \n",
       "0              no             yes        2      yes        furnished  \n",
       "1              no             yes        3       no        furnished  \n",
       "2              no              no        2      yes   semi-furnished  \n",
       "3              no             yes        3      yes        furnished  \n",
       "4              no             yes        2       no        furnished  "
      ]
     },
     "execution_count": 4,
     "metadata": {},
     "output_type": "execute_result"
    }
   ],
   "source": [
    "# Display the first few rows of the dataset\n",
    "df.head()"
   ]
  },
  {
   "cell_type": "markdown",
   "id": "5b92a0fa",
   "metadata": {
    "papermill": {
     "duration": 0.005059,
     "end_time": "2024-08-30T10:36:11.438085",
     "exception": false,
     "start_time": "2024-08-30T10:36:11.433026",
     "status": "completed"
    },
    "tags": []
   },
   "source": [
    "### Data Cleaning and Preparation\n",
    "\n",
    "Before diving into analysis, we need to ensure the data is clean and ready for use. This includes checking for missing values and converting categorical variables into numerical ones."
   ]
  },
  {
   "cell_type": "code",
   "execution_count": 5,
   "id": "96dbc05c",
   "metadata": {
    "execution": {
     "iopub.execute_input": "2024-08-30T10:36:11.450342Z",
     "iopub.status.busy": "2024-08-30T10:36:11.449916Z",
     "iopub.status.idle": "2024-08-30T10:36:11.461343Z",
     "shell.execute_reply": "2024-08-30T10:36:11.460367Z"
    },
    "papermill": {
     "duration": 0.020714,
     "end_time": "2024-08-30T10:36:11.463960",
     "exception": false,
     "start_time": "2024-08-30T10:36:11.443246",
     "status": "completed"
    },
    "tags": []
   },
   "outputs": [
    {
     "data": {
      "text/plain": [
       "price               0\n",
       "area                0\n",
       "bedrooms            0\n",
       "bathrooms           0\n",
       "stories             0\n",
       "mainroad            0\n",
       "guestroom           0\n",
       "basement            0\n",
       "hotwaterheating     0\n",
       "airconditioning     0\n",
       "parking             0\n",
       "prefarea            0\n",
       "furnishingstatus    0\n",
       "dtype: int64"
      ]
     },
     "execution_count": 5,
     "metadata": {},
     "output_type": "execute_result"
    }
   ],
   "source": [
    "# Check for missing values\n",
    "df.isnull().sum()"
   ]
  },
  {
   "cell_type": "code",
   "execution_count": 6,
   "id": "18aa0a9f",
   "metadata": {
    "execution": {
     "iopub.execute_input": "2024-08-30T10:36:11.477593Z",
     "iopub.status.busy": "2024-08-30T10:36:11.477094Z",
     "iopub.status.idle": "2024-08-30T10:36:11.501990Z",
     "shell.execute_reply": "2024-08-30T10:36:11.500557Z"
    },
    "papermill": {
     "duration": 0.035578,
     "end_time": "2024-08-30T10:36:11.505250",
     "exception": false,
     "start_time": "2024-08-30T10:36:11.469672",
     "status": "completed"
    },
    "tags": []
   },
   "outputs": [],
   "source": [
    "# Convert categorical variables to numerical\n",
    "categorical_columns = ['mainroad', 'guestroom', 'basement', 'hotwaterheating', 'airconditioning', 'prefarea', 'furnishingstatus']\n",
    "df = pd.get_dummies(df, columns=categorical_columns, drop_first=True)"
   ]
  },
  {
   "cell_type": "markdown",
   "id": "c9ac77e1",
   "metadata": {
    "papermill": {
     "duration": 0.005921,
     "end_time": "2024-08-30T10:36:11.517411",
     "exception": false,
     "start_time": "2024-08-30T10:36:11.511490",
     "status": "completed"
    },
    "tags": []
   },
   "source": [
    "### Correlation Analysis\n",
    "\n",
    "Understanding the correlation between different variables can provide insights into what factors most influence housing prices."
   ]
  },
  {
   "cell_type": "code",
   "execution_count": 7,
   "id": "eb802b6b",
   "metadata": {
    "execution": {
     "iopub.execute_input": "2024-08-30T10:36:11.531504Z",
     "iopub.status.busy": "2024-08-30T10:36:11.530994Z",
     "iopub.status.idle": "2024-08-30T10:36:12.038979Z",
     "shell.execute_reply": "2024-08-30T10:36:12.037513Z"
    },
    "papermill": {
     "duration": 0.518868,
     "end_time": "2024-08-30T10:36:12.042173",
     "exception": false,
     "start_time": "2024-08-30T10:36:11.523305",
     "status": "completed"
    },
    "tags": []
   },
   "outputs": [
    {
     "data": {
<<<<<<< HEAD
      "image/png": "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",
=======
      "image/png": "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",
>>>>>>> feature-model-training
      "text/plain": [
       "<Figure size 1200x800 with 2 Axes>"
      ]
     },
     "metadata": {},
     "output_type": "display_data"
    }
   ],
   "source": [
    "# Select only numeric columns for correlation analysis\n",
    "numeric_df = df.select_dtypes(include=[np.number])\n",
    "\n",
    "# Compute the correlation matrix\n",
    "correlation_matrix = numeric_df.corr()\n",
    "\n",
    "# Plot the heatmap\n",
    "plt.figure(figsize=(12, 8))\n",
    "sns.heatmap(correlation_matrix, annot=True, cmap='coolwarm', linewidths=0.5)\n",
    "plt.title('Correlation Heatmap')\n",
    "plt.show()"
   ]
  },
  {
   "cell_type": "markdown",
   "id": "1387c59d",
   "metadata": {
    "papermill": {
     "duration": 0.006663,
     "end_time": "2024-08-30T10:36:12.055463",
     "exception": false,
     "start_time": "2024-08-30T10:36:12.048800",
     "status": "completed"
    },
    "tags": []
   },
   "source": [
    "### Predictive Modeling\n",
    "\n",
    "Given the data, it seems plausible to predict housing prices based on the other features. Let's build a linear regression model to see how well we can predict the prices."
   ]
  },
  {
   "cell_type": "code",
   "execution_count": 8,
   "id": "0a477de7",
   "metadata": {
    "execution": {
     "iopub.execute_input": "2024-08-30T10:36:12.070738Z",
     "iopub.status.busy": "2024-08-30T10:36:12.070192Z",
     "iopub.status.idle": "2024-08-30T10:36:12.119836Z",
     "shell.execute_reply": "2024-08-30T10:36:12.118831Z"
    },
    "papermill": {
     "duration": 0.060648,
     "end_time": "2024-08-30T10:36:12.122593",
     "exception": false,
     "start_time": "2024-08-30T10:36:12.061945",
     "status": "completed"
    },
    "tags": []
   },
   "outputs": [
    {
     "data": {
      "text/plain": [
       "(1523019469501.2913, 0.6463350878895877)"
      ]
     },
     "execution_count": 8,
     "metadata": {},
     "output_type": "execute_result"
    }
   ],
   "source": [
    "# Define the target variable and features\n",
    "X = df.drop('price', axis=1)\n",
    "y = df['price']\n",
    "\n",
    "# Split the data into training and testing sets\n",
    "X_train, X_test, y_train, y_test = train_test_split(X, y, test_size=0.3, random_state=42)\n",
    "\n",
    "# Initialize and train the linear regression model\n",
    "model = LinearRegression()\n",
    "model.fit(X_train, y_train)\n",
    "\n",
    "# Make predictions on the test set\n",
    "y_pred = model.predict(X_test)\n",
    "\n",
    "# Calculate the prediction accuracy\n",
    "mse = mean_squared_error(y_test, y_pred)\n",
    "r2 = r2_score(y_test, y_pred)\n",
    "mse, r2"
   ]
  },
  {
<<<<<<< HEAD
   "cell_type": "code",
   "execution_count": 10,
   "id": "b5ea6856",
   "metadata": {},
   "outputs": [
    {
     "data": {
      "text/html": [
       "<div>\n",
       "<style scoped>\n",
       "    .dataframe tbody tr th:only-of-type {\n",
       "        vertical-align: middle;\n",
       "    }\n",
       "\n",
       "    .dataframe tbody tr th {\n",
       "        vertical-align: top;\n",
       "    }\n",
       "\n",
       "    .dataframe thead th {\n",
       "        text-align: right;\n",
       "    }\n",
       "</style>\n",
       "<table border=\"1\" class=\"dataframe\">\n",
       "  <thead>\n",
       "    <tr style=\"text-align: right;\">\n",
       "      <th></th>\n",
       "      <th>area</th>\n",
       "      <th>bedrooms</th>\n",
       "      <th>bathrooms</th>\n",
       "      <th>stories</th>\n",
       "      <th>parking</th>\n",
       "      <th>mainroad_yes</th>\n",
       "      <th>guestroom_yes</th>\n",
       "      <th>basement_yes</th>\n",
       "      <th>hotwaterheating_yes</th>\n",
       "      <th>airconditioning_yes</th>\n",
       "      <th>prefarea_yes</th>\n",
       "      <th>furnishingstatus_semi-furnished</th>\n",
       "      <th>furnishingstatus_unfurnished</th>\n",
       "    </tr>\n",
       "  </thead>\n",
       "  <tbody>\n",
       "    <tr>\n",
       "      <th>316</th>\n",
       "      <td>5900</td>\n",
       "      <td>4</td>\n",
       "      <td>2</td>\n",
       "      <td>2</td>\n",
       "      <td>1</td>\n",
       "      <td>False</td>\n",
       "      <td>False</td>\n",
       "      <td>True</td>\n",
       "      <td>False</td>\n",
       "      <td>False</td>\n",
       "      <td>False</td>\n",
       "      <td>False</td>\n",
       "      <td>True</td>\n",
       "    </tr>\n",
       "    <tr>\n",
       "      <th>77</th>\n",
       "      <td>6500</td>\n",
       "      <td>3</td>\n",
       "      <td>2</td>\n",
       "      <td>3</td>\n",
       "      <td>0</td>\n",
       "      <td>True</td>\n",
       "      <td>False</td>\n",
       "      <td>False</td>\n",
       "      <td>False</td>\n",
       "      <td>True</td>\n",
       "      <td>True</td>\n",
       "      <td>False</td>\n",
       "      <td>False</td>\n",
       "    </tr>\n",
       "    <tr>\n",
       "      <th>360</th>\n",
       "      <td>4040</td>\n",
       "      <td>2</td>\n",
       "      <td>1</td>\n",
       "      <td>1</td>\n",
       "      <td>0</td>\n",
       "      <td>True</td>\n",
       "      <td>False</td>\n",
       "      <td>False</td>\n",
       "      <td>False</td>\n",
       "      <td>False</td>\n",
       "      <td>False</td>\n",
       "      <td>True</td>\n",
       "      <td>False</td>\n",
       "    </tr>\n",
       "    <tr>\n",
       "      <th>90</th>\n",
       "      <td>5000</td>\n",
       "      <td>3</td>\n",
       "      <td>1</td>\n",
       "      <td>2</td>\n",
       "      <td>0</td>\n",
       "      <td>True</td>\n",
       "      <td>False</td>\n",
       "      <td>False</td>\n",
       "      <td>False</td>\n",
       "      <td>True</td>\n",
       "      <td>False</td>\n",
       "      <td>True</td>\n",
       "      <td>False</td>\n",
       "    </tr>\n",
       "    <tr>\n",
       "      <th>493</th>\n",
       "      <td>3960</td>\n",
       "      <td>3</td>\n",
       "      <td>1</td>\n",
       "      <td>1</td>\n",
       "      <td>0</td>\n",
       "      <td>True</td>\n",
       "      <td>False</td>\n",
       "      <td>False</td>\n",
       "      <td>False</td>\n",
       "      <td>False</td>\n",
       "      <td>False</td>\n",
       "      <td>False</td>\n",
       "      <td>False</td>\n",
       "    </tr>\n",
       "    <tr>\n",
       "      <th>...</th>\n",
       "      <td>...</td>\n",
       "      <td>...</td>\n",
       "      <td>...</td>\n",
       "      <td>...</td>\n",
       "      <td>...</td>\n",
       "      <td>...</td>\n",
       "      <td>...</td>\n",
       "      <td>...</td>\n",
       "      <td>...</td>\n",
       "      <td>...</td>\n",
       "      <td>...</td>\n",
       "      <td>...</td>\n",
       "      <td>...</td>\n",
       "    </tr>\n",
       "    <tr>\n",
       "      <th>395</th>\n",
       "      <td>3600</td>\n",
       "      <td>6</td>\n",
       "      <td>1</td>\n",
       "      <td>2</td>\n",
       "      <td>1</td>\n",
       "      <td>True</td>\n",
       "      <td>False</td>\n",
       "      <td>False</td>\n",
       "      <td>False</td>\n",
       "      <td>False</td>\n",
       "      <td>False</td>\n",
       "      <td>False</td>\n",
       "      <td>True</td>\n",
       "    </tr>\n",
       "    <tr>\n",
       "      <th>425</th>\n",
       "      <td>3185</td>\n",
       "      <td>2</td>\n",
       "      <td>1</td>\n",
       "      <td>1</td>\n",
       "      <td>2</td>\n",
       "      <td>True</td>\n",
       "      <td>False</td>\n",
       "      <td>True</td>\n",
       "      <td>False</td>\n",
       "      <td>False</td>\n",
       "      <td>False</td>\n",
       "      <td>False</td>\n",
       "      <td>False</td>\n",
       "    </tr>\n",
       "    <tr>\n",
       "      <th>195</th>\n",
       "      <td>4410</td>\n",
       "      <td>4</td>\n",
       "      <td>3</td>\n",
       "      <td>2</td>\n",
       "      <td>2</td>\n",
       "      <td>True</td>\n",
       "      <td>False</td>\n",
       "      <td>True</td>\n",
       "      <td>False</td>\n",
       "      <td>False</td>\n",
       "      <td>False</td>\n",
       "      <td>True</td>\n",
       "      <td>False</td>\n",
       "    </tr>\n",
       "    <tr>\n",
       "      <th>452</th>\n",
       "      <td>9000</td>\n",
       "      <td>3</td>\n",
       "      <td>1</td>\n",
       "      <td>2</td>\n",
       "      <td>2</td>\n",
       "      <td>True</td>\n",
       "      <td>False</td>\n",
       "      <td>False</td>\n",
       "      <td>False</td>\n",
       "      <td>False</td>\n",
       "      <td>False</td>\n",
       "      <td>True</td>\n",
       "      <td>False</td>\n",
       "    </tr>\n",
       "    <tr>\n",
       "      <th>154</th>\n",
       "      <td>3650</td>\n",
       "      <td>3</td>\n",
       "      <td>2</td>\n",
       "      <td>2</td>\n",
       "      <td>2</td>\n",
       "      <td>True</td>\n",
       "      <td>False</td>\n",
       "      <td>False</td>\n",
       "      <td>False</td>\n",
       "      <td>False</td>\n",
       "      <td>False</td>\n",
       "      <td>True</td>\n",
       "      <td>False</td>\n",
       "    </tr>\n",
       "  </tbody>\n",
       "</table>\n",
       "<p>164 rows × 13 columns</p>\n",
       "</div>"
      ],
      "text/plain": [
       "     area  bedrooms  bathrooms  stories  parking  mainroad_yes  guestroom_yes  \\\n",
       "316  5900         4          2        2        1         False          False   \n",
       "77   6500         3          2        3        0          True          False   \n",
       "360  4040         2          1        1        0          True          False   \n",
       "90   5000         3          1        2        0          True          False   \n",
       "493  3960         3          1        1        0          True          False   \n",
       "..    ...       ...        ...      ...      ...           ...            ...   \n",
       "395  3600         6          1        2        1          True          False   \n",
       "425  3185         2          1        1        2          True          False   \n",
       "195  4410         4          3        2        2          True          False   \n",
       "452  9000         3          1        2        2          True          False   \n",
       "154  3650         3          2        2        2          True          False   \n",
       "\n",
       "     basement_yes  hotwaterheating_yes  airconditioning_yes  prefarea_yes  \\\n",
       "316          True                False                False         False   \n",
       "77          False                False                 True          True   \n",
       "360         False                False                False         False   \n",
       "90          False                False                 True         False   \n",
       "493         False                False                False         False   \n",
       "..            ...                  ...                  ...           ...   \n",
       "395         False                False                False         False   \n",
       "425          True                False                False         False   \n",
       "195          True                False                False         False   \n",
       "452         False                False                False         False   \n",
       "154         False                False                False         False   \n",
       "\n",
       "     furnishingstatus_semi-furnished  furnishingstatus_unfurnished  \n",
       "316                            False                          True  \n",
       "77                             False                         False  \n",
       "360                             True                         False  \n",
       "90                              True                         False  \n",
       "493                            False                         False  \n",
       "..                               ...                           ...  \n",
       "395                            False                          True  \n",
       "425                            False                         False  \n",
       "195                             True                         False  \n",
       "452                             True                         False  \n",
       "154                             True                         False  \n",
       "\n",
       "[164 rows x 13 columns]"
      ]
     },
     "execution_count": 10,
     "metadata": {},
     "output_type": "execute_result"
    }
   ],
   "source": [
    "X_test"
   ]
  },
  {
=======
>>>>>>> feature-model-training
   "cell_type": "markdown",
   "id": "993882c4",
   "metadata": {
    "papermill": {
     "duration": 0.008015,
     "end_time": "2024-08-30T10:36:12.140268",
     "exception": false,
     "start_time": "2024-08-30T10:36:12.132253",
     "status": "completed"
    },
    "tags": []
   },
   "source": [
    "### Conclusion and Future Work\n",
    "\n",
    "In this notebook, we explored the housing prices dataset, performed data cleaning, and built a predictive model for housing prices. The correlation analysis provided insights into the relationships between different variables, and the linear regression model gave us a way to predict housing prices.\n",
    "\n",
    "For future analysis, it would be interesting to explore more sophisticated models, such as decision trees or random forests, to see if they can improve prediction accuracy. Additionally, incorporating external data, such as economic indicators or neighborhood crime rates, could provide a more comprehensive understanding of housing prices.\n",
    "\n",
    "What other analyses do you think would be useful? Feel free to share your thoughts."
   ]
  },
  {
   "cell_type": "markdown",
   "id": "0f619ee8",
   "metadata": {
    "papermill": {
     "duration": 0.00738,
     "end_time": "2024-08-30T10:36:12.156595",
     "exception": false,
     "start_time": "2024-08-30T10:36:12.149215",
     "status": "completed"
    },
    "tags": []
   },
   "source": [
    "## Credits\n",
    "This notebook was created with the help of [Devra AI data science assistant](https://devra.ai/ref/kaggle)"
   ]
<<<<<<< HEAD
  },
  {
   "cell_type": "markdown",
   "id": "6e849260",
   "metadata": {},
   "source": []
=======
>>>>>>> feature-model-training
  }
 ],
 "metadata": {
  "kernelspec": {
   "display_name": "Python 3",
   "language": "python",
   "name": "python3"
  },
  "language_info": {
   "codemirror_mode": {
    "name": "ipython",
    "version": 3
   },
   "file_extension": ".py",
   "mimetype": "text/x-python",
   "name": "python",
   "nbconvert_exporter": "python",
   "pygments_lexer": "ipython3",
<<<<<<< HEAD
   "version": "3.12.4"
=======
   "version": "3.10.14"
>>>>>>> feature-model-training
  },
  "papermill": {
   "default_parameters": {},
   "duration": 7.571709,
   "end_time": "2024-08-30T10:36:13.089326",
   "environment_variables": {},
   "exception": null,
   "input_path": "__notebook__.ipynb",
   "output_path": "__notebook__.ipynb",
   "parameters": {},
   "start_time": "2024-08-30T10:36:05.517617",
   "version": "2.6.0"
  }
 },
 "nbformat": 4,
 "nbformat_minor": 5
}

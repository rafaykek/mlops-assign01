{
 "cells": [
  {
   "cell_type": "markdown",
   "id": "0ad4f160",
   "metadata": {
    "papermill": {
     "duration": 0.005248,
     "end_time": "2024-08-30T10:36:08.599214",
     "exception": false,
     "start_time": "2024-08-30T10:36:08.593966",
     "status": "completed"
    },
    "tags": []
   },
   "source": [
    "### Housing Prices Analysis\n",
    "\n",
    "The housing market is a fascinating reflection of economic trends, societal shifts, and individual preferences. By analyzing housing prices, we can uncover insights into what drives property values and potentially predict future trends. This notebook dives into a dataset of housing prices to explore these dynamics. If you find this analysis useful, please consider upvoting it.\n"
   ]
  },
  {
   "cell_type": "code",
   "execution_count": 1,
   "id": "d31f88a2",
   "metadata": {
    "execution": {
     "iopub.execute_input": "2024-08-30T10:36:08.610959Z",
     "iopub.status.busy": "2024-08-30T10:36:08.610442Z",
     "iopub.status.idle": "2024-08-30T10:36:08.624787Z",
     "shell.execute_reply": "2024-08-30T10:36:08.623523Z"
    },
    "papermill": {
     "duration": 0.023118,
     "end_time": "2024-08-30T10:36:08.627460",
     "exception": false,
     "start_time": "2024-08-30T10:36:08.604342",
     "status": "completed"
    },
    "tags": []
   },
   "outputs": [],
   "source": [
    "# Suppress warnings\n",
    "import warnings\n",
    "warnings.filterwarnings('ignore')"
   ]
  },
  {
   "cell_type": "code",
   "execution_count": 2,
   "id": "a6bc6f64",
   "metadata": {
    "execution": {
     "iopub.execute_input": "2024-08-30T10:36:08.638618Z",
     "iopub.status.busy": "2024-08-30T10:36:08.638101Z",
     "iopub.status.idle": "2024-08-30T10:36:11.327549Z",
     "shell.execute_reply": "2024-08-30T10:36:11.325968Z"
    },
    "papermill": {
     "duration": 2.698959,
     "end_time": "2024-08-30T10:36:11.330943",
     "exception": false,
     "start_time": "2024-08-30T10:36:08.631984",
     "status": "completed"
    },
    "tags": []
   },
   "outputs": [],
   "source": [
    "# Import necessary libraries\n",
    "import pandas as pd\n",
    "import numpy as np\n",
    "import seaborn as sns\n",
    "import matplotlib.pyplot as plt\n",
    "from sklearn.model_selection import train_test_split\n",
    "from sklearn.linear_model import LinearRegression\n",
    "from sklearn.metrics import mean_squared_error, r2_score"
   ]
  },
  {
   "cell_type": "code",
   "execution_count": 3,
   "id": "bfa07022",
   "metadata": {
    "execution": {
     "iopub.execute_input": "2024-08-30T10:36:11.343183Z",
     "iopub.status.busy": "2024-08-30T10:36:11.342554Z",
     "iopub.status.idle": "2024-08-30T10:36:11.372538Z",
     "shell.execute_reply": "2024-08-30T10:36:11.371091Z"
    },
    "papermill": {
     "duration": 0.039655,
     "end_time": "2024-08-30T10:36:11.375778",
     "exception": false,
     "start_time": "2024-08-30T10:36:11.336123",
     "status": "completed"
    },
    "tags": []
   },
   "outputs": [],
   "source": [
    "# Load the dataset\n",
    "file_path = '/kaggle/input/housing-prices-dataset/Housing.csv'\n",
    "df = pd.read_csv(file_path)"
   ]
  },
  {
   "cell_type": "markdown",
   "id": "5c836c6b",
   "metadata": {
    "papermill": {
     "duration": 0.004267,
     "end_time": "2024-08-30T10:36:11.385014",
     "exception": false,
     "start_time": "2024-08-30T10:36:11.380747",
     "status": "completed"
    },
    "tags": []
   },
   "source": [
    "### Initial Data Exploration\n",
    "\n",
    "Let's take a first look at the dataset to understand its structure and contents."
   ]
  },
  {
   "cell_type": "code",
   "execution_count": 4,
   "id": "91d90adc",
   "metadata": {
    "execution": {
     "iopub.execute_input": "2024-08-30T10:36:11.395845Z",
     "iopub.status.busy": "2024-08-30T10:36:11.395438Z",
     "iopub.status.idle": "2024-08-30T10:36:11.424769Z",
     "shell.execute_reply": "2024-08-30T10:36:11.423384Z"
    },
    "papermill": {
     "duration": 0.037962,
     "end_time": "2024-08-30T10:36:11.427488",
     "exception": false,
     "start_time": "2024-08-30T10:36:11.389526",
     "status": "completed"
    },
    "tags": []
   },
   "outputs": [
    {
     "data": {
      "text/html": [
       "<div>\n",
       "<style scoped>\n",
       "    .dataframe tbody tr th:only-of-type {\n",
       "        vertical-align: middle;\n",
       "    }\n",
       "\n",
       "    .dataframe tbody tr th {\n",
       "        vertical-align: top;\n",
       "    }\n",
       "\n",
       "    .dataframe thead th {\n",
       "        text-align: right;\n",
       "    }\n",
       "</style>\n",
       "<table border=\"1\" class=\"dataframe\">\n",
       "  <thead>\n",
       "    <tr style=\"text-align: right;\">\n",
       "      <th></th>\n",
       "      <th>price</th>\n",
       "      <th>area</th>\n",
       "      <th>bedrooms</th>\n",
       "      <th>bathrooms</th>\n",
       "      <th>stories</th>\n",
       "      <th>mainroad</th>\n",
       "      <th>guestroom</th>\n",
       "      <th>basement</th>\n",
       "      <th>hotwaterheating</th>\n",
       "      <th>airconditioning</th>\n",
       "      <th>parking</th>\n",
       "      <th>prefarea</th>\n",
       "      <th>furnishingstatus</th>\n",
       "    </tr>\n",
       "  </thead>\n",
       "  <tbody>\n",
       "    <tr>\n",
       "      <th>0</th>\n",
       "      <td>13300000</td>\n",
       "      <td>7420</td>\n",
       "      <td>4</td>\n",
       "      <td>2</td>\n",
       "      <td>3</td>\n",
       "      <td>yes</td>\n",
       "      <td>no</td>\n",
       "      <td>no</td>\n",
       "      <td>no</td>\n",
       "      <td>yes</td>\n",
       "      <td>2</td>\n",
       "      <td>yes</td>\n",
       "      <td>furnished</td>\n",
       "    </tr>\n",
       "    <tr>\n",
       "      <th>1</th>\n",
       "      <td>12250000</td>\n",
       "      <td>8960</td>\n",
       "      <td>4</td>\n",
       "      <td>4</td>\n",
       "      <td>4</td>\n",
       "      <td>yes</td>\n",
       "      <td>no</td>\n",
       "      <td>no</td>\n",
       "      <td>no</td>\n",
       "      <td>yes</td>\n",
       "      <td>3</td>\n",
       "      <td>no</td>\n",
       "      <td>furnished</td>\n",
       "    </tr>\n",
       "    <tr>\n",
       "      <th>2</th>\n",
       "      <td>12250000</td>\n",
       "      <td>9960</td>\n",
       "      <td>3</td>\n",
       "      <td>2</td>\n",
       "      <td>2</td>\n",
       "      <td>yes</td>\n",
       "      <td>no</td>\n",
       "      <td>yes</td>\n",
       "      <td>no</td>\n",
       "      <td>no</td>\n",
       "      <td>2</td>\n",
       "      <td>yes</td>\n",
       "      <td>semi-furnished</td>\n",
       "    </tr>\n",
       "    <tr>\n",
       "      <th>3</th>\n",
       "      <td>12215000</td>\n",
       "      <td>7500</td>\n",
       "      <td>4</td>\n",
       "      <td>2</td>\n",
       "      <td>2</td>\n",
       "      <td>yes</td>\n",
       "      <td>no</td>\n",
       "      <td>yes</td>\n",
       "      <td>no</td>\n",
       "      <td>yes</td>\n",
       "      <td>3</td>\n",
       "      <td>yes</td>\n",
       "      <td>furnished</td>\n",
       "    </tr>\n",
       "    <tr>\n",
       "      <th>4</th>\n",
       "      <td>11410000</td>\n",
       "      <td>7420</td>\n",
       "      <td>4</td>\n",
       "      <td>1</td>\n",
       "      <td>2</td>\n",
       "      <td>yes</td>\n",
       "      <td>yes</td>\n",
       "      <td>yes</td>\n",
       "      <td>no</td>\n",
       "      <td>yes</td>\n",
       "      <td>2</td>\n",
       "      <td>no</td>\n",
       "      <td>furnished</td>\n",
       "    </tr>\n",
       "  </tbody>\n",
       "</table>\n",
       "</div>"
      ],
      "text/plain": [
       "      price  area  bedrooms  bathrooms  stories mainroad guestroom basement  \\\n",
       "0  13300000  7420         4          2        3      yes        no       no   \n",
       "1  12250000  8960         4          4        4      yes        no       no   \n",
       "2  12250000  9960         3          2        2      yes        no      yes   \n",
       "3  12215000  7500         4          2        2      yes        no      yes   \n",
       "4  11410000  7420         4          1        2      yes       yes      yes   \n",
       "\n",
       "  hotwaterheating airconditioning  parking prefarea furnishingstatus  \n",
       "0              no             yes        2      yes        furnished  \n",
       "1              no             yes        3       no        furnished  \n",
       "2              no              no        2      yes   semi-furnished  \n",
       "3              no             yes        3      yes        furnished  \n",
       "4              no             yes        2       no        furnished  "
      ]
     },
     "execution_count": 4,
     "metadata": {},
     "output_type": "execute_result"
    }
   ],
   "source": [
    "# Display the first few rows of the dataset\n",
    "df.head()"
   ]
  },
  {
   "cell_type": "markdown",
   "id": "5b92a0fa",
   "metadata": {
    "papermill": {
     "duration": 0.005059,
     "end_time": "2024-08-30T10:36:11.438085",
     "exception": false,
     "start_time": "2024-08-30T10:36:11.433026",
     "status": "completed"
    },
    "tags": []
   },
   "source": [
    "### Data Cleaning and Preparation\n",
    "\n",
    "Before diving into analysis, we need to ensure the data is clean and ready for use. This includes checking for missing values and converting categorical variables into numerical ones."
   ]
  },
  {
   "cell_type": "code",
   "execution_count": 5,
   "id": "96dbc05c",
   "metadata": {
    "execution": {
     "iopub.execute_input": "2024-08-30T10:36:11.450342Z",
     "iopub.status.busy": "2024-08-30T10:36:11.449916Z",
     "iopub.status.idle": "2024-08-30T10:36:11.461343Z",
     "shell.execute_reply": "2024-08-30T10:36:11.460367Z"
    },
    "papermill": {
     "duration": 0.020714,
     "end_time": "2024-08-30T10:36:11.463960",
     "exception": false,
     "start_time": "2024-08-30T10:36:11.443246",
     "status": "completed"
    },
    "tags": []
   },
   "outputs": [
    {
     "data": {
      "text/plain": [
       "price               0\n",
       "area                0\n",
       "bedrooms            0\n",
       "bathrooms           0\n",
       "stories             0\n",
       "mainroad            0\n",
       "guestroom           0\n",
       "basement            0\n",
       "hotwaterheating     0\n",
       "airconditioning     0\n",
       "parking             0\n",
       "prefarea            0\n",
       "furnishingstatus    0\n",
       "dtype: int64"
      ]
     },
     "execution_count": 5,
     "metadata": {},
     "output_type": "execute_result"
    }
   ],
   "source": [
    "# Check for missing values\n",
    "df.isnull().sum()"
   ]
  },
  {
   "cell_type": "code",
   "execution_count": 6,
   "id": "18aa0a9f",
   "metadata": {
    "execution": {
     "iopub.execute_input": "2024-08-30T10:36:11.477593Z",
     "iopub.status.busy": "2024-08-30T10:36:11.477094Z",
     "iopub.status.idle": "2024-08-30T10:36:11.501990Z",
     "shell.execute_reply": "2024-08-30T10:36:11.500557Z"
    },
    "papermill": {
     "duration": 0.035578,
     "end_time": "2024-08-30T10:36:11.505250",
     "exception": false,
     "start_time": "2024-08-30T10:36:11.469672",
     "status": "completed"
    },
    "tags": []
   },
   "outputs": [],
   "source": [
    "# Convert categorical variables to numerical\n",
    "categorical_columns = ['mainroad', 'guestroom', 'basement', 'hotwaterheating', 'airconditioning', 'prefarea', 'furnishingstatus']\n",
    "df = pd.get_dummies(df, columns=categorical_columns, drop_first=True)"
   ]
  },
  {
   "cell_type": "markdown",
   "id": "c9ac77e1",
   "metadata": {
    "papermill": {
     "duration": 0.005921,
     "end_time": "2024-08-30T10:36:11.517411",
     "exception": false,
     "start_time": "2024-08-30T10:36:11.511490",
     "status": "completed"
    },
    "tags": []
   },
   "source": [
    "### Correlation Analysis\n",
    "\n",
    "Understanding the correlation between different variables can provide insights into what factors most influence housing prices."
   ]
  },
  {
   "cell_type": "code",
   "execution_count": 7,
   "id": "eb802b6b",
   "metadata": {
    "execution": {
     "iopub.execute_input": "2024-08-30T10:36:11.531504Z",
     "iopub.status.busy": "2024-08-30T10:36:11.530994Z",
     "iopub.status.idle": "2024-08-30T10:36:12.038979Z",
     "shell.execute_reply": "2024-08-30T10:36:12.037513Z"
    },
    "papermill": {
     "duration": 0.518868,
     "end_time": "2024-08-30T10:36:12.042173",
     "exception": false,
     "start_time": "2024-08-30T10:36:11.523305",
     "status": "completed"
    },
    "tags": []
   },
   "outputs": [
    {
     "data": {
      "image/png": "[encoded data removed]",
      "text/plain": [
       "<Figure size 1200x800 with 2 Axes>"
      ]
     },
     "metadata": {},
     "output_type": "display_data"
    }
   ],
   "source": [
    "# Select only numeric columns for correlation analysis\n",
    "numeric_df = df.select_dtypes(include=[np.number])\n",
    "\n",
    "# Compute the correlation matrix\n",
    "correlation_matrix = numeric_df.corr()\n",
    "\n",
    "# Plot the heatmap\n",
    "plt.figure(figsize=(12, 8))\n",
    "sns.heatmap(correlation_matrix, annot=True, cmap='coolwarm', linewidths=0.5)\n",
    "plt.title('Correlation Heatmap')\n",
    "plt.show()"
   ]
  },
  {
   "cell_type": "markdown",
   "id": "1387c59d",
   "metadata": {
    "papermill": {
     "duration": 0.006663,
     "end_time": "2024-08-30T10:36:12.055463",
     "exception": false,
     "start_time": "2024-08-30T10:36:12.048800",
     "status": "completed"
    },
    "tags": []
   },
   "source": [
    "### Predictive Modeling\n",
    "\n",
    "Given the data, it seems plausible to predict housing prices based on the other features. Let's build a linear regression model to see how well we can predict the prices."
   ]
  },
  {
   "cell_type": "code",
   "execution_count": 8,
   "id": "0a477de7",
   "metadata": {
    "execution": {
     "iopub.execute_input": "2024-08-30T10:36:12.070738Z",
     "iopub.status.busy": "2024-08-30T10:36:12.070192Z",
     "iopub.status.idle": "2024-08-30T10:36:12.119836Z",
     "shell.execute_reply": "2024-08-30T10:36:12.118831Z"
    },
    "papermill": {
     "duration": 0.060648,
     "end_time": "2024-08-30T10:36:12.122593",
     "exception": false,
     "start_time": "2024-08-30T10:36:12.061945",
     "status": "completed"
    },
    "tags": []
   },
   "outputs": [
    {
     "data": {
      "text/plain": [
       "(1523019469501.2913, 0.6463350878895877)"
      ]
     },
     "execution_count": 8,
     "metadata": {},
     "output_type": "execute_result"
    }
   ],
   "source": [
    "# Define the target variable and features\n",
    "X = df.drop('price', axis=1)\n",
    "y = df['price']\n",
    "\n",
    "# Split the data into training and testing sets\n",
    "X_train, X_test, y_train, y_test = train_test_split(X, y, test_size=0.3, random_state=42)\n",
    "\n",
    "# Initialize and train the linear regression model\n",
    "model = LinearRegression()\n",
    "model.fit(X_train, y_train)\n",
    "\n",
    "# Make predictions on the test set\n",
    "y_pred = model.predict(X_test)\n",
    "\n",
    "# Calculate the prediction accuracy\n",
    "mse = mean_squared_error(y_test, y_pred)\n",
    "r2 = r2_score(y_test, y_pred)\n",
    "mse, r2"
   ]
  },
  {
   "cell_type": "markdown",
   "id": "993882c4",
   "metadata": {
    "papermill": {
     "duration": 0.008015,
     "end_time": "2024-08-30T10:36:12.140268",
     "exception": false,
     "start_time": "2024-08-30T10:36:12.132253",
     "status": "completed"
    },
    "tags": []
   },
   "source": [
    "### Conclusion and Future Work\n",
    "\n",
    "In this notebook, we explored the housing prices dataset, performed data cleaning, and built a predictive model for housing prices. The correlation analysis provided insights into the relationships between different variables, and the linear regression model gave us a way to predict housing prices.\n",
    "\n",
    "For future analysis, it would be interesting to explore more sophisticated models, such as decision trees or random forests, to see if they can improve prediction accuracy. Additionally, incorporating external data, such as economic indicators or neighborhood crime rates, could provide a more comprehensive understanding of housing prices.\n",
    "\n",
    "What other analyses do you think would be useful? Feel free to share your thoughts."
   ]
  },
  {
   "cell_type": "markdown",
   "id": "0f619ee8",
   "metadata": {
    "papermill": {
     "duration": 0.00738,
     "end_time": "2024-08-30T10:36:12.156595",
     "exception": false,
     "start_time": "2024-08-30T10:36:12.149215",
     "status": "completed"
    },
    "tags": []
   },
   "source": [
    "## Credits\n",
    "This notebook was created with the help of [Devra AI data science assistant](https://devra.ai/ref/kaggle)"
   ]
  }
 ],
 "metadata": {
  "kernelspec": {
   "display_name": "Python 3",
   "language": "python",
   "name": "python3"
  },
  "language_info": {
   "codemirror_mode": {
    "name": "ipython",
    "version": 3
   },
   "file_extension": ".py",
   "mimetype": "text/x-python",
   "name": "python",
   "nbconvert_exporter": "python",
   "pygments_lexer": "ipython3",
   "version": "3.10.14"
  },
  "papermill": {
   "default_parameters": {},
   "duration": 7.571709,
   "end_time": "2024-08-30T10:36:13.089326",
   "environment_variables": {},
   "exception": null,
   "input_path": "__notebook__.ipynb",
   "output_path": "__notebook__.ipynb",
   "parameters": {},
   "start_time": "2024-08-30T10:36:05.517617",
   "version": "2.6.0"
  }
 },
 "nbformat": 4,
 "nbformat_minor": 5
}
